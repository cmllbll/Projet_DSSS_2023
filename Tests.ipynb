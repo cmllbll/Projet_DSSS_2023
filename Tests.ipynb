{
 "cells": [
  {
   "cell_type": "code",
   "execution_count": 11,
   "outputs": [
    {
     "name": "stdout",
     "output_type": "stream",
     "text": [
      "Collecting ipympl\n",
      "  Downloading ipympl-0.9.3-py2.py3-none-any.whl (511 kB)\n",
      "Requirement already satisfied: ipywidgets<9,>=7.6.0 in c:\\users\\arceb\\appdata\\local\\programs\\python\\python39\\lib\\site-packages (from ipympl) (7.7.0)\n",
      "Requirement already satisfied: matplotlib<4,>=3.4.0 in c:\\users\\arceb\\appdata\\local\\programs\\python\\python39\\lib\\site-packages (from ipympl) (3.5.2)\n",
      "Requirement already satisfied: numpy in c:\\users\\arceb\\appdata\\local\\programs\\python\\python39\\lib\\site-packages (from ipympl) (1.22.4)\n",
      "Requirement already satisfied: pillow in c:\\users\\arceb\\appdata\\local\\programs\\python\\python39\\lib\\site-packages (from ipympl) (9.1.1)\n",
      "Requirement already satisfied: ipython-genutils in c:\\users\\arceb\\appdata\\local\\programs\\python\\python39\\lib\\site-packages (from ipympl) (0.2.0)\n",
      "Requirement already satisfied: ipython<9 in c:\\users\\arceb\\appdata\\local\\programs\\python\\python39\\lib\\site-packages (from ipympl) (8.4.0)\n",
      "Requirement already satisfied: traitlets<6 in c:\\users\\arceb\\appdata\\local\\programs\\python\\python39\\lib\\site-packages (from ipympl) (5.2.2.post1)\n",
      "Requirement already satisfied: matplotlib-inline in c:\\users\\arceb\\appdata\\local\\programs\\python\\python39\\lib\\site-packages (from ipython<9->ipympl) (0.1.3)\n",
      "Requirement already satisfied: prompt-toolkit!=3.0.0,!=3.0.1,<3.1.0,>=2.0.0 in c:\\users\\arceb\\appdata\\local\\programs\\python\\python39\\lib\\site-packages (from ipython<9->ipympl) (3.0.29)\n",
      "Requirement already satisfied: jedi>=0.16 in c:\\users\\arceb\\appdata\\local\\programs\\python\\python39\\lib\\site-packages (from ipython<9->ipympl) (0.18.1)\n",
      "Requirement already satisfied: backcall in c:\\users\\arceb\\appdata\\local\\programs\\python\\python39\\lib\\site-packages (from ipython<9->ipympl) (0.2.0)\n",
      "Requirement already satisfied: stack-data in c:\\users\\arceb\\appdata\\local\\programs\\python\\python39\\lib\\site-packages (from ipython<9->ipympl) (0.3.0)\n",
      "Requirement already satisfied: decorator in c:\\users\\arceb\\appdata\\local\\programs\\python\\python39\\lib\\site-packages (from ipython<9->ipympl) (5.1.1)\n",
      "Requirement already satisfied: pickleshare in c:\\users\\arceb\\appdata\\local\\programs\\python\\python39\\lib\\site-packages (from ipython<9->ipympl) (0.7.5)\n",
      "Requirement already satisfied: pygments>=2.4.0 in c:\\users\\arceb\\appdata\\local\\programs\\python\\python39\\lib\\site-packages (from ipython<9->ipympl) (2.12.0)\n",
      "Requirement already satisfied: colorama in c:\\users\\arceb\\appdata\\local\\programs\\python\\python39\\lib\\site-packages (from ipython<9->ipympl) (0.4.4)\n",
      "Requirement already satisfied: setuptools>=18.5 in c:\\users\\arceb\\appdata\\local\\programs\\python\\python39\\lib\\site-packages (from ipython<9->ipympl) (58.1.0)\n",
      "Requirement already satisfied: widgetsnbextension~=3.6.0 in c:\\users\\arceb\\appdata\\local\\programs\\python\\python39\\lib\\site-packages (from ipywidgets<9,>=7.6.0->ipympl) (3.6.0)\n",
      "Requirement already satisfied: jupyterlab-widgets>=1.0.0 in c:\\users\\arceb\\appdata\\local\\programs\\python\\python39\\lib\\site-packages (from ipywidgets<9,>=7.6.0->ipympl) (1.1.0)\n",
      "Requirement already satisfied: nbformat>=4.2.0 in c:\\users\\arceb\\appdata\\local\\programs\\python\\python39\\lib\\site-packages (from ipywidgets<9,>=7.6.0->ipympl) (5.4.0)\n",
      "Requirement already satisfied: ipykernel>=4.5.1 in c:\\users\\arceb\\appdata\\local\\programs\\python\\python39\\lib\\site-packages (from ipywidgets<9,>=7.6.0->ipympl) (6.15.0)\n",
      "Requirement already satisfied: psutil in c:\\users\\arceb\\appdata\\local\\programs\\python\\python39\\lib\\site-packages (from ipykernel>=4.5.1->ipywidgets<9,>=7.6.0->ipympl) (5.9.1)\n",
      "Requirement already satisfied: pyzmq>=17 in c:\\users\\arceb\\appdata\\local\\programs\\python\\python39\\lib\\site-packages (from ipykernel>=4.5.1->ipywidgets<9,>=7.6.0->ipympl) (23.1.0)\n",
      "Requirement already satisfied: tornado>=6.1 in c:\\users\\arceb\\appdata\\local\\programs\\python\\python39\\lib\\site-packages (from ipykernel>=4.5.1->ipywidgets<9,>=7.6.0->ipympl) (6.1)\n",
      "Requirement already satisfied: jupyter-client>=6.1.12 in c:\\users\\arceb\\appdata\\local\\programs\\python\\python39\\lib\\site-packages (from ipykernel>=4.5.1->ipywidgets<9,>=7.6.0->ipympl) (7.3.4)\n",
      "Requirement already satisfied: nest-asyncio in c:\\users\\arceb\\appdata\\local\\programs\\python\\python39\\lib\\site-packages (from ipykernel>=4.5.1->ipywidgets<9,>=7.6.0->ipympl) (1.5.5)\n",
      "Requirement already satisfied: packaging in c:\\users\\arceb\\appdata\\local\\programs\\python\\python39\\lib\\site-packages (from ipykernel>=4.5.1->ipywidgets<9,>=7.6.0->ipympl) (21.3)\n",
      "Requirement already satisfied: debugpy>=1.0 in c:\\users\\arceb\\appdata\\local\\programs\\python\\python39\\lib\\site-packages (from ipykernel>=4.5.1->ipywidgets<9,>=7.6.0->ipympl) (1.6.0)\n",
      "Requirement already satisfied: parso<0.9.0,>=0.8.0 in c:\\users\\arceb\\appdata\\local\\programs\\python\\python39\\lib\\site-packages (from jedi>=0.16->ipython<9->ipympl) (0.8.3)\n",
      "Requirement already satisfied: entrypoints in c:\\users\\arceb\\appdata\\local\\programs\\python\\python39\\lib\\site-packages (from jupyter-client>=6.1.12->ipykernel>=4.5.1->ipywidgets<9,>=7.6.0->ipympl) (0.4)\n",
      "Requirement already satisfied: python-dateutil>=2.8.2 in c:\\users\\arceb\\appdata\\local\\programs\\python\\python39\\lib\\site-packages (from jupyter-client>=6.1.12->ipykernel>=4.5.1->ipywidgets<9,>=7.6.0->ipympl) (2.8.2)\n",
      "Requirement already satisfied: jupyter-core>=4.9.2 in c:\\users\\arceb\\appdata\\local\\programs\\python\\python39\\lib\\site-packages (from jupyter-client>=6.1.12->ipykernel>=4.5.1->ipywidgets<9,>=7.6.0->ipympl) (4.10.0)\n",
      "Requirement already satisfied: pywin32>=1.0 in c:\\users\\arceb\\appdata\\local\\programs\\python\\python39\\lib\\site-packages (from jupyter-core>=4.9.2->jupyter-client>=6.1.12->ipykernel>=4.5.1->ipywidgets<9,>=7.6.0->ipympl) (304)\n",
      "Requirement already satisfied: fonttools>=4.22.0 in c:\\users\\arceb\\appdata\\local\\programs\\python\\python39\\lib\\site-packages (from matplotlib<4,>=3.4.0->ipympl) (4.33.3)\n",
      "Requirement already satisfied: kiwisolver>=1.0.1 in c:\\users\\arceb\\appdata\\local\\programs\\python\\python39\\lib\\site-packages (from matplotlib<4,>=3.4.0->ipympl) (1.4.3)\n",
      "Requirement already satisfied: cycler>=0.10 in c:\\users\\arceb\\appdata\\local\\programs\\python\\python39\\lib\\site-packages (from matplotlib<4,>=3.4.0->ipympl) (0.11.0)\n",
      "Requirement already satisfied: pyparsing>=2.2.1 in c:\\users\\arceb\\appdata\\local\\programs\\python\\python39\\lib\\site-packages (from matplotlib<4,>=3.4.0->ipympl) (3.0.9)\n",
      "Requirement already satisfied: fastjsonschema in c:\\users\\arceb\\appdata\\local\\programs\\python\\python39\\lib\\site-packages (from nbformat>=4.2.0->ipywidgets<9,>=7.6.0->ipympl) (2.15.3)\n",
      "Requirement already satisfied: jsonschema>=2.6 in c:\\users\\arceb\\appdata\\local\\programs\\python\\python39\\lib\\site-packages (from nbformat>=4.2.0->ipywidgets<9,>=7.6.0->ipympl) (4.6.0)\n",
      "Requirement already satisfied: attrs>=17.4.0 in c:\\users\\arceb\\appdata\\local\\programs\\python\\python39\\lib\\site-packages (from jsonschema>=2.6->nbformat>=4.2.0->ipywidgets<9,>=7.6.0->ipympl) (21.4.0)\n",
      "Requirement already satisfied: pyrsistent!=0.17.0,!=0.17.1,!=0.17.2,>=0.14.0 in c:\\users\\arceb\\appdata\\local\\programs\\python\\python39\\lib\\site-packages (from jsonschema>=2.6->nbformat>=4.2.0->ipywidgets<9,>=7.6.0->ipympl) (0.18.1)\n",
      "Requirement already satisfied: wcwidth in c:\\users\\arceb\\appdata\\local\\programs\\python\\python39\\lib\\site-packages (from prompt-toolkit!=3.0.0,!=3.0.1,<3.1.0,>=2.0.0->ipython<9->ipympl) (0.2.5)\n",
      "Requirement already satisfied: six>=1.5 in c:\\users\\arceb\\appdata\\local\\programs\\python\\python39\\lib\\site-packages (from python-dateutil>=2.8.2->jupyter-client>=6.1.12->ipykernel>=4.5.1->ipywidgets<9,>=7.6.0->ipympl) (1.16.0)\n",
      "Requirement already satisfied: notebook>=4.4.1 in c:\\users\\arceb\\appdata\\local\\programs\\python\\python39\\lib\\site-packages (from widgetsnbextension~=3.6.0->ipywidgets<9,>=7.6.0->ipympl) (6.4.12)\n",
      "Requirement already satisfied: prometheus-client in c:\\users\\arceb\\appdata\\local\\programs\\python\\python39\\lib\\site-packages (from notebook>=4.4.1->widgetsnbextension~=3.6.0->ipywidgets<9,>=7.6.0->ipympl) (0.14.1)\n",
      "Requirement already satisfied: nbconvert>=5 in c:\\users\\arceb\\appdata\\local\\programs\\python\\python39\\lib\\site-packages (from notebook>=4.4.1->widgetsnbextension~=3.6.0->ipywidgets<9,>=7.6.0->ipympl) (6.5.0)\n",
      "Requirement already satisfied: argon2-cffi in c:\\users\\arceb\\appdata\\local\\programs\\python\\python39\\lib\\site-packages (from notebook>=4.4.1->widgetsnbextension~=3.6.0->ipywidgets<9,>=7.6.0->ipympl) (21.3.0)\n",
      "Requirement already satisfied: jinja2 in c:\\users\\arceb\\appdata\\local\\programs\\python\\python39\\lib\\site-packages (from notebook>=4.4.1->widgetsnbextension~=3.6.0->ipywidgets<9,>=7.6.0->ipympl) (3.1.2)\n",
      "Requirement already satisfied: terminado>=0.8.3 in c:\\users\\arceb\\appdata\\local\\programs\\python\\python39\\lib\\site-packages (from notebook>=4.4.1->widgetsnbextension~=3.6.0->ipywidgets<9,>=7.6.0->ipympl) (0.15.0)\n",
      "Requirement already satisfied: Send2Trash>=1.8.0 in c:\\users\\arceb\\appdata\\local\\programs\\python\\python39\\lib\\site-packages (from notebook>=4.4.1->widgetsnbextension~=3.6.0->ipywidgets<9,>=7.6.0->ipympl) (1.8.0)\n",
      "Requirement already satisfied: mistune<2,>=0.8.1 in c:\\users\\arceb\\appdata\\local\\programs\\python\\python39\\lib\\site-packages (from nbconvert>=5->notebook>=4.4.1->widgetsnbextension~=3.6.0->ipywidgets<9,>=7.6.0->ipympl) (0.8.4)\n",
      "Requirement already satisfied: pandocfilters>=1.4.1 in c:\\users\\arceb\\appdata\\local\\programs\\python\\python39\\lib\\site-packages (from nbconvert>=5->notebook>=4.4.1->widgetsnbextension~=3.6.0->ipywidgets<9,>=7.6.0->ipympl) (1.5.0)\n",
      "Requirement already satisfied: nbclient>=0.5.0 in c:\\users\\arceb\\appdata\\local\\programs\\python\\python39\\lib\\site-packages (from nbconvert>=5->notebook>=4.4.1->widgetsnbextension~=3.6.0->ipywidgets<9,>=7.6.0->ipympl) (0.6.4)\n",
      "Requirement already satisfied: tinycss2 in c:\\users\\arceb\\appdata\\local\\programs\\python\\python39\\lib\\site-packages (from nbconvert>=5->notebook>=4.4.1->widgetsnbextension~=3.6.0->ipywidgets<9,>=7.6.0->ipympl) (1.1.1)\n",
      "Requirement already satisfied: defusedxml in c:\\users\\arceb\\appdata\\local\\programs\\python\\python39\\lib\\site-packages (from nbconvert>=5->notebook>=4.4.1->widgetsnbextension~=3.6.0->ipywidgets<9,>=7.6.0->ipympl) (0.7.1)\n",
      "Requirement already satisfied: jupyterlab-pygments in c:\\users\\arceb\\appdata\\local\\programs\\python\\python39\\lib\\site-packages (from nbconvert>=5->notebook>=4.4.1->widgetsnbextension~=3.6.0->ipywidgets<9,>=7.6.0->ipympl) (0.2.2)\n",
      "Requirement already satisfied: bleach in c:\\users\\arceb\\appdata\\local\\programs\\python\\python39\\lib\\site-packages (from nbconvert>=5->notebook>=4.4.1->widgetsnbextension~=3.6.0->ipywidgets<9,>=7.6.0->ipympl) (5.0.0)\n",
      "Requirement already satisfied: MarkupSafe>=2.0 in c:\\users\\arceb\\appdata\\local\\programs\\python\\python39\\lib\\site-packages (from nbconvert>=5->notebook>=4.4.1->widgetsnbextension~=3.6.0->ipywidgets<9,>=7.6.0->ipympl) (2.1.1)\n",
      "Requirement already satisfied: beautifulsoup4 in c:\\users\\arceb\\appdata\\local\\programs\\python\\python39\\lib\\site-packages (from nbconvert>=5->notebook>=4.4.1->widgetsnbextension~=3.6.0->ipywidgets<9,>=7.6.0->ipympl) (4.11.1)\n",
      "Requirement already satisfied: pywinpty>=1.1.0 in c:\\users\\arceb\\appdata\\local\\programs\\python\\python39\\lib\\site-packages (from terminado>=0.8.3->notebook>=4.4.1->widgetsnbextension~=3.6.0->ipywidgets<9,>=7.6.0->ipympl) (2.0.5)\n",
      "Requirement already satisfied: argon2-cffi-bindings in c:\\users\\arceb\\appdata\\local\\programs\\python\\python39\\lib\\site-packages (from argon2-cffi->notebook>=4.4.1->widgetsnbextension~=3.6.0->ipywidgets<9,>=7.6.0->ipympl) (21.2.0)\n",
      "Requirement already satisfied: cffi>=1.0.1 in c:\\users\\arceb\\appdata\\local\\programs\\python\\python39\\lib\\site-packages (from argon2-cffi-bindings->argon2-cffi->notebook>=4.4.1->widgetsnbextension~=3.6.0->ipywidgets<9,>=7.6.0->ipympl) (1.15.0)\n",
      "Requirement already satisfied: pycparser in c:\\users\\arceb\\appdata\\local\\programs\\python\\python39\\lib\\site-packages (from cffi>=1.0.1->argon2-cffi-bindings->argon2-cffi->notebook>=4.4.1->widgetsnbextension~=3.6.0->ipywidgets<9,>=7.6.0->ipympl) (2.21)\n",
      "Requirement already satisfied: soupsieve>1.2 in c:\\users\\arceb\\appdata\\local\\programs\\python\\python39\\lib\\site-packages (from beautifulsoup4->nbconvert>=5->notebook>=4.4.1->widgetsnbextension~=3.6.0->ipywidgets<9,>=7.6.0->ipympl) (2.3.2.post1)\n",
      "Requirement already satisfied: webencodings in c:\\users\\arceb\\appdata\\local\\programs\\python\\python39\\lib\\site-packages (from bleach->nbconvert>=5->notebook>=4.4.1->widgetsnbextension~=3.6.0->ipywidgets<9,>=7.6.0->ipympl) (0.5.1)\n",
      "Requirement already satisfied: executing in c:\\users\\arceb\\appdata\\local\\programs\\python\\python39\\lib\\site-packages (from stack-data->ipython<9->ipympl) (0.8.3)\n",
      "Requirement already satisfied: asttokens in c:\\users\\arceb\\appdata\\local\\programs\\python\\python39\\lib\\site-packages (from stack-data->ipython<9->ipympl) (2.0.5)\n",
      "Requirement already satisfied: pure-eval in c:\\users\\arceb\\appdata\\local\\programs\\python\\python39\\lib\\site-packages (from stack-data->ipython<9->ipympl) (0.2.2)\n",
      "Installing collected packages: ipympl\n",
      "Successfully installed ipympl-0.9.3\n"
     ]
    },
    {
     "name": "stderr",
     "output_type": "stream",
     "text": [
      "WARNING: You are using pip version 21.2.4; however, version 23.3.1 is available.\n",
      "You should consider upgrading via the 'C:\\Users\\arceb\\AppData\\Local\\Programs\\Python\\Python39\\python.exe -m pip install --upgrade pip' command.\n"
     ]
    }
   ],
   "source": [
    "#! pip install datasets\n",
    "!pip install ipympl"
   ],
   "metadata": {
    "collapsed": false,
    "pycharm": {
     "name": "#%%\n"
    }
   }
  },
  {
   "cell_type": "code",
   "execution_count": 3,
   "outputs": [],
   "source": [
    "from datasets import load_dataset\n",
    "import pandas as pd"
   ],
   "metadata": {
    "collapsed": false,
    "pycharm": {
     "name": "#%%\n"
    }
   }
  },
  {
   "cell_type": "code",
   "execution_count": 4,
   "outputs": [
    {
     "data": {
      "text/plain": "Downloading builder script:   0%|          | 0.00/8.91k [00:00<?, ?B/s]",
      "application/vnd.jupyter.widget-view+json": {
       "version_major": 2,
       "version_minor": 0,
       "model_id": "d61d112b86dd438cbf65b590c6302d4f"
      }
     },
     "metadata": {},
     "output_type": "display_data"
    },
    {
     "data": {
      "text/plain": "Downloading readme:   0%|          | 0.00/8.02k [00:00<?, ?B/s]",
      "application/vnd.jupyter.widget-view+json": {
       "version_major": 2,
       "version_minor": 0,
       "model_id": "98b15915f43a45e6b3d176720315916c"
      }
     },
     "metadata": {},
     "output_type": "display_data"
    },
    {
     "name": "stdout",
     "output_type": "stream",
     "text": [
      "Only taking a subset of years. Change name to 'all_years' to use all years in the dataset.\n",
      "{'1809': 'https://huggingface.co/datasets/dell-research-harvard/AmericanStories/resolve/main/faro_1809.tar.gz', '1810': 'https://huggingface.co/datasets/dell-research-harvard/AmericanStories/resolve/main/faro_1810.tar.gz'}\n"
     ]
    },
    {
     "data": {
      "text/plain": "Downloading data files:   0%|          | 0/2 [00:00<?, ?it/s]",
      "application/vnd.jupyter.widget-view+json": {
       "version_major": 2,
       "version_minor": 0,
       "model_id": "8cf8b34fae834ad4bd3f5abd144c0485"
      }
     },
     "metadata": {},
     "output_type": "display_data"
    },
    {
     "data": {
      "text/plain": "Downloading data:   0%|          | 0.00/409k [00:00<?, ?B/s]",
      "application/vnd.jupyter.widget-view+json": {
       "version_major": 2,
       "version_minor": 0,
       "model_id": "0c5efe3fd69d4475baf148a63c0e3fac"
      }
     },
     "metadata": {},
     "output_type": "display_data"
    },
    {
     "data": {
      "text/plain": "Downloading data:   0%|          | 0.00/922k [00:00<?, ?B/s]",
      "application/vnd.jupyter.widget-view+json": {
       "version_major": 2,
       "version_minor": 0,
       "model_id": "6ce2653bc6704210af78f8f65ef05907"
      }
     },
     "metadata": {},
     "output_type": "display_data"
    },
    {
     "data": {
      "text/plain": "Generating 1809 split: 0 examples [00:00, ? examples/s]",
      "application/vnd.jupyter.widget-view+json": {
       "version_major": 2,
       "version_minor": 0,
       "model_id": "8657fd48288a47159e826127808c4251"
      }
     },
     "metadata": {},
     "output_type": "display_data"
    },
    {
     "name": "stdout",
     "output_type": "stream",
     "text": [
      "Loading associated\n"
     ]
    },
    {
     "data": {
      "text/plain": "Generating 1810 split: 0 examples [00:00, ? examples/s]",
      "application/vnd.jupyter.widget-view+json": {
       "version_major": 2,
       "version_minor": 0,
       "model_id": "59ee7fb2e9134654a7d17bfa70ee3c05"
      }
     },
     "metadata": {},
     "output_type": "display_data"
    },
    {
     "name": "stdout",
     "output_type": "stream",
     "text": [
      "Loading associated\n"
     ]
    }
   ],
   "source": [
    "#  Download data for the year 1809 at the associated article level (Default)\n",
    "dataset = load_dataset(\"dell-research-harvard/AmericanStories\",\n",
    "    \"subset_years\",\n",
    "    year_list=[\"1809\", \"1810\"]\n",
    ")"
   ],
   "metadata": {
    "collapsed": false,
    "pycharm": {
     "name": "#%%\n"
    }
   }
  },
  {
   "cell_type": "code",
   "execution_count": 5,
   "outputs": [
    {
     "data": {
      "text/plain": "DatasetDict({\n    1809: Dataset({\n        features: ['article_id', 'newspaper_name', 'edition', 'date', 'page', 'headline', 'byline', 'article'],\n        num_rows: 422\n    })\n    1810: Dataset({\n        features: ['article_id', 'newspaper_name', 'edition', 'date', 'page', 'headline', 'byline', 'article'],\n        num_rows: 982\n    })\n})"
     },
     "execution_count": 5,
     "metadata": {},
     "output_type": "execute_result"
    }
   ],
   "source": [
    "dataset"
   ],
   "metadata": {
    "collapsed": false,
    "pycharm": {
     "name": "#%%\n"
    }
   }
  },
  {
   "cell_type": "code",
   "execution_count": 10,
   "outputs": [
    {
     "data": {
      "text/plain": "{'article_id': '2_1809-01-02_pNone_sn83016082_00332895072_1809010201_0528',\n 'newspaper_name': 'Portland gazette and Maine advertiser.',\n 'edition': '01',\n 'date': '1809-01-02',\n 'page': 'pNone',\n 'headline': 'HEwBURYroRT, DIG. %.\\n60 DICNIFIED [RETIR EMENT =',\n 'byline': '',\n 'article': 'Ibsy\",iy eoa,k uBnb trisgs bi day about\\n\\n\\nSbaH aevo kaesU h bafa MouRNFuL DAY.\\n\\n\\nlie fale my iifs rJes be dofB fske fbe sseans BY\\n\\n\\nubib isve\" ..|6\\n\\n\\nfksTfRAr completed twelve months fnce\\nthe \\'mpoition of the EMsAsco. Never was\\nday known in this country which brought\\nwith II feelings and anticipations 60 gloomy\\nand diitreiling. Il was commemorated in this\\ntown by every poilible demoniira,ion of grief\\nand mourn,ns-Ae funrfe the bells were rol-\\nhsni !; md I\\'m DE sbn.. .bjasping, hoiaed half\\nrefs, fired The tong of bells and difcharge.\\nOf cannon, was repeated at i2, and at clock\\nAt 9 O\\'Clock, procsiIion of Sailsrs looking\\neach of them . \"tlosdisj\\' imsgs # ds,psir,\\'\\nwearing Grape on the left arm and marihalled\\nby an officer, marched with mufled drums\\nthrough the principal areets Of the town I;\\nfollowed by fhip difhaniled Her yards\\ncock bill, bell rolling in her bows, and her\\nMATS capped by inverted cans denoting the\\nwant of grog. A flag was fufpended between\\nher main and mizen ihrowds reprefenting\\nfhip in ry-doek--inicription Death TO Com\\nsasrse. \" 0gra6 ne\" was painted on the bows\\nOf the fhip. An old faiIor with profpect\\ngIafs food on her quarter deck, enquiring in\\nthe words on her fern, WLisb zpsy l6aH\\nHsy.\\' 0ppoi:e the Cuiiom- Houie was flag\\nreprefenting tarrapin; his head in msf Dig\\nnitied ,sibemsnf. When the proeetiion reached\\nthis lpo, j, halted, and faiior flanding in the\\nmain chains delivered AN AppRrss prepared\\nfor the oecaGon.--We are afured it was writ\\nten by himielf, and it does no imall honor to\\nhis talents and his feelings. II zosnf from he\\nbeayf, it ssartei tie besyf An immenfe con-\\ncourfe Of Spectators evinced by their applaufe\\nits excellence Thele honeff tars afterwards\\ndined togerhr on CLAIMS.\\n\\n\\nSuch is the fimple deicrip,ion of a ceremo.\\nny planned with much ingenuity, and con-\\nduct I\\'d with the u,mofl dignity and decorum\\nWe could not witnefs il without feeling the\\nmoft ferrous and painful emotions--This was\\nonly an indication of approaching ruin; but\\nwhen the smbaiied ,pi,a Of famine fhall be actu-\\nally prefent, and it u rot jar df0nf, we fear il\\nviii fpeaka more threatf,ng language. Il\\nmay se iaid the number was lma who thus\\nmanifeiled their diareis. Let not thofe who\\nhave exiio3osr fearnen, reproach Us with the\\neffects Of their own folly. II is FOO m1sb, for\\nthofe who have ruined Us BY their oppreihon\\nto infult us with their maievolence. Let not\\nthofe who have hurried us to the precipice,\\ncomplain thar we trsn,ble on its verge and\\nthofe who have itretched US on the rack, ac-\\n\"ule US Of writhing under IT\\'S tortures.'}"
     },
     "execution_count": 10,
     "metadata": {},
     "output_type": "execute_result"
    }
   ],
   "source": [
    "dataset_1809 = dataset['1809'][20]\n",
    "dataset_1809\n"
   ],
   "metadata": {
    "collapsed": false,
    "pycharm": {
     "name": "#%%\n"
    }
   }
  },
  {
   "cell_type": "code",
   "execution_count": null,
   "outputs": [],
   "source": [],
   "metadata": {
    "collapsed": false,
    "pycharm": {
     "name": "#%%\n"
    }
   }
  }
 ],
 "metadata": {
  "kernelspec": {
   "display_name": "Python 3",
   "language": "python",
   "name": "python3"
  },
  "language_info": {
   "codemirror_mode": {
    "name": "ipython",
    "version": 2
   },
   "file_extension": ".py",
   "mimetype": "text/x-python",
   "name": "python",
   "nbconvert_exporter": "python",
   "pygments_lexer": "ipython2",
   "version": "2.7.6"
  }
 },
 "nbformat": 4,
 "nbformat_minor": 0
}