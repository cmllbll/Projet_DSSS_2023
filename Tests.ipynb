{
 "cells": [
  {
   "cell_type": "code",
   "execution_count": null,
   "outputs": [],
   "source": [
    "#! pip install datasets\n",
    "!pip install ipympl"
   ],
   "metadata": {
    "collapsed": false,
    "pycharm": {
     "name": "#%%\n",
     "is_executing": true
    }
   }
  },
  {
   "cell_type": "code",
   "execution_count": 23,
   "outputs": [],
   "source": [
    "\n",
    "#Imports\n",
    "import json\n",
    "\n",
    "from datasets import load_dataset\n",
    "import tqdm as tq"
   ],
   "metadata": {
    "collapsed": false,
    "pycharm": {
     "name": "#%%\n"
    }
   }
  },
  {
   "cell_type": "code",
   "execution_count": 4,
   "outputs": [
    {
     "data": {
      "text/plain": "Downloading builder script:   0%|          | 0.00/8.91k [00:00<?, ?B/s]",
      "application/vnd.jupyter.widget-view+json": {
       "version_major": 2,
       "version_minor": 0,
       "model_id": "d61d112b86dd438cbf65b590c6302d4f"
      }
     },
     "metadata": {},
     "output_type": "display_data"
    },
    {
     "data": {
      "text/plain": "Downloading readme:   0%|          | 0.00/8.02k [00:00<?, ?B/s]",
      "application/vnd.jupyter.widget-view+json": {
       "version_major": 2,
       "version_minor": 0,
       "model_id": "98b15915f43a45e6b3d176720315916c"
      }
     },
     "metadata": {},
     "output_type": "display_data"
    },
    {
     "name": "stdout",
     "output_type": "stream",
     "text": [
      "Only taking a subset of years. Change name to 'all_years' to use all years in the dataset.\n",
      "{'1809': 'https://huggingface.co/datasets/dell-research-harvard/AmericanStories/resolve/main/faro_1809.tar.gz', '1810': 'https://huggingface.co/datasets/dell-research-harvard/AmericanStories/resolve/main/faro_1810.tar.gz'}\n"
     ]
    },
    {
     "data": {
      "text/plain": "Downloading data files:   0%|          | 0/2 [00:00<?, ?it/s]",
      "application/vnd.jupyter.widget-view+json": {
       "version_major": 2,
       "version_minor": 0,
       "model_id": "8cf8b34fae834ad4bd3f5abd144c0485"
      }
     },
     "metadata": {},
     "output_type": "display_data"
    },
    {
     "data": {
      "text/plain": "Downloading data:   0%|          | 0.00/409k [00:00<?, ?B/s]",
      "application/vnd.jupyter.widget-view+json": {
       "version_major": 2,
       "version_minor": 0,
       "model_id": "0c5efe3fd69d4475baf148a63c0e3fac"
      }
     },
     "metadata": {},
     "output_type": "display_data"
    },
    {
     "data": {
      "text/plain": "Downloading data:   0%|          | 0.00/922k [00:00<?, ?B/s]",
      "application/vnd.jupyter.widget-view+json": {
       "version_major": 2,
       "version_minor": 0,
       "model_id": "6ce2653bc6704210af78f8f65ef05907"
      }
     },
     "metadata": {},
     "output_type": "display_data"
    },
    {
     "data": {
      "text/plain": "Generating 1809 split: 0 examples [00:00, ? examples/s]",
      "application/vnd.jupyter.widget-view+json": {
       "version_major": 2,
       "version_minor": 0,
       "model_id": "8657fd48288a47159e826127808c4251"
      }
     },
     "metadata": {},
     "output_type": "display_data"
    },
    {
     "name": "stdout",
     "output_type": "stream",
     "text": [
      "Loading associated\n"
     ]
    },
    {
     "data": {
      "text/plain": "Generating 1810 split: 0 examples [00:00, ? examples/s]",
      "application/vnd.jupyter.widget-view+json": {
       "version_major": 2,
       "version_minor": 0,
       "model_id": "59ee7fb2e9134654a7d17bfa70ee3c05"
      }
     },
     "metadata": {},
     "output_type": "display_data"
    },
    {
     "name": "stdout",
     "output_type": "stream",
     "text": [
      "Loading associated\n"
     ]
    }
   ],
   "source": [
    "#  Download data for the year 1809 at the associated article level (Default)\n",
    "dataset = load_dataset(\"dell-research-harvard/AmericanStories\",\n",
    "    \"subset_years\",\n",
    "    year_list=[\"1809\", \"1810\"]\n",
    ")"
   ],
   "metadata": {
    "collapsed": false,
    "pycharm": {
     "name": "#%%\n"
    }
   }
  },
  {
   "cell_type": "code",
   "execution_count": 5,
   "outputs": [
    {
     "data": {
      "text/plain": "DatasetDict({\n    1809: Dataset({\n        features: ['article_id', 'newspaper_name', 'edition', 'date', 'page', 'headline', 'byline', 'article'],\n        num_rows: 422\n    })\n    1810: Dataset({\n        features: ['article_id', 'newspaper_name', 'edition', 'date', 'page', 'headline', 'byline', 'article'],\n        num_rows: 982\n    })\n})"
     },
     "execution_count": 5,
     "metadata": {},
     "output_type": "execute_result"
    }
   ],
   "source": [
    "dataset"
   ],
   "metadata": {
    "collapsed": false,
    "pycharm": {
     "name": "#%%\n"
    }
   }
  },
  {
   "cell_type": "code",
   "execution_count": 10,
   "outputs": [
    {
     "data": {
      "text/plain": "{'article_id': '2_1809-01-02_pNone_sn83016082_00332895072_1809010201_0528',\n 'newspaper_name': 'Portland gazette and Maine advertiser.',\n 'edition': '01',\n 'date': '1809-01-02',\n 'page': 'pNone',\n 'headline': 'HEwBURYroRT, DIG. %.\\n60 DICNIFIED [RETIR EMENT =',\n 'byline': '',\n 'article': 'Ibsy\",iy eoa,k uBnb trisgs bi day about\\n\\n\\nSbaH aevo kaesU h bafa MouRNFuL DAY.\\n\\n\\nlie fale my iifs rJes be dofB fske fbe sseans BY\\n\\n\\nubib isve\" ..|6\\n\\n\\nfksTfRAr completed twelve months fnce\\nthe \\'mpoition of the EMsAsco. Never was\\nday known in this country which brought\\nwith II feelings and anticipations 60 gloomy\\nand diitreiling. Il was commemorated in this\\ntown by every poilible demoniira,ion of grief\\nand mourn,ns-Ae funrfe the bells were rol-\\nhsni !; md I\\'m DE sbn.. .bjasping, hoiaed half\\nrefs, fired The tong of bells and difcharge.\\nOf cannon, was repeated at i2, and at clock\\nAt 9 O\\'Clock, procsiIion of Sailsrs looking\\neach of them . \"tlosdisj\\' imsgs # ds,psir,\\'\\nwearing Grape on the left arm and marihalled\\nby an officer, marched with mufled drums\\nthrough the principal areets Of the town I;\\nfollowed by fhip difhaniled Her yards\\ncock bill, bell rolling in her bows, and her\\nMATS capped by inverted cans denoting the\\nwant of grog. A flag was fufpended between\\nher main and mizen ihrowds reprefenting\\nfhip in ry-doek--inicription Death TO Com\\nsasrse. \" 0gra6 ne\" was painted on the bows\\nOf the fhip. An old faiIor with profpect\\ngIafs food on her quarter deck, enquiring in\\nthe words on her fern, WLisb zpsy l6aH\\nHsy.\\' 0ppoi:e the Cuiiom- Houie was flag\\nreprefenting tarrapin; his head in msf Dig\\nnitied ,sibemsnf. When the proeetiion reached\\nthis lpo, j, halted, and faiior flanding in the\\nmain chains delivered AN AppRrss prepared\\nfor the oecaGon.--We are afured it was writ\\nten by himielf, and it does no imall honor to\\nhis talents and his feelings. II zosnf from he\\nbeayf, it ssartei tie besyf An immenfe con-\\ncourfe Of Spectators evinced by their applaufe\\nits excellence Thele honeff tars afterwards\\ndined togerhr on CLAIMS.\\n\\n\\nSuch is the fimple deicrip,ion of a ceremo.\\nny planned with much ingenuity, and con-\\nduct I\\'d with the u,mofl dignity and decorum\\nWe could not witnefs il without feeling the\\nmoft ferrous and painful emotions--This was\\nonly an indication of approaching ruin; but\\nwhen the smbaiied ,pi,a Of famine fhall be actu-\\nally prefent, and it u rot jar df0nf, we fear il\\nviii fpeaka more threatf,ng language. Il\\nmay se iaid the number was lma who thus\\nmanifeiled their diareis. Let not thofe who\\nhave exiio3osr fearnen, reproach Us with the\\neffects Of their own folly. II is FOO m1sb, for\\nthofe who have ruined Us BY their oppreihon\\nto infult us with their maievolence. Let not\\nthofe who have hurried us to the precipice,\\ncomplain thar we trsn,ble on its verge and\\nthofe who have itretched US on the rack, ac-\\n\"ule US Of writhing under IT\\'S tortures.'}"
     },
     "execution_count": 10,
     "metadata": {},
     "output_type": "execute_result"
    }
   ],
   "source": [
    "dataset_1809 = dataset['1809'][20]\n",
    "dataset_1809\n"
   ],
   "metadata": {
    "collapsed": false,
    "pycharm": {
     "name": "#%%\n"
    }
   }
  },
  {
   "cell_type": "markdown",
   "source": [
    "## Tests Notebook American Stories"
   ],
   "metadata": {
    "collapsed": false,
    "pycharm": {
     "name": "#%% md\n"
    }
   }
  },
  {
   "cell_type": "code",
   "execution_count": 12,
   "outputs": [
    {
     "name": "stdout",
     "output_type": "stream",
     "text": [
      "Only taking a subset of years. Change name to 'all_years' to use all years in the dataset.\n",
      "{'1900': 'https://huggingface.co/datasets/dell-research-harvard/AmericanStories/resolve/main/faro_1900.tar.gz'}\n"
     ]
    },
    {
     "data": {
      "text/plain": "Downloading data files:   0%|          | 0/1 [00:00<?, ?it/s]",
      "application/vnd.jupyter.widget-view+json": {
       "version_major": 2,
       "version_minor": 0,
       "model_id": "94fa89835f6948c39e002b41f7c1672a"
      }
     },
     "metadata": {},
     "output_type": "display_data"
    },
    {
     "data": {
      "text/plain": "Downloading data:   0%|          | 0.00/1.68G [00:00<?, ?B/s]",
      "application/vnd.jupyter.widget-view+json": {
       "version_major": 2,
       "version_minor": 0,
       "model_id": "b6271cbde49c45608bcd5a22eb285a7d"
      }
     },
     "metadata": {},
     "output_type": "display_data"
    },
    {
     "data": {
      "text/plain": "Generating 1900 split: 0 examples [00:00, ? examples/s]",
      "application/vnd.jupyter.widget-view+json": {
       "version_major": 2,
       "version_minor": 0,
       "model_id": "725c4d6593f74713a04e91a0e14a13d3"
      }
     },
     "metadata": {},
     "output_type": "display_data"
    },
    {
     "name": "stdout",
     "output_type": "stream",
     "text": [
      "Loading associated\n"
     ]
    }
   ],
   "source": [
    "# let's start with deciding which years we want data for\n",
    "article_level_desired_years = [\"1900\", ]\n",
    "\n",
    "# now let's load our data, we have to specify the huggingface location of our\n",
    "# data, the fact that we want to have a subset of years, and our desired years\n",
    "dataset_article_level=load_dataset(\"dell-research-harvard/AmericanStories\",\n",
    "                                   \"subset_years\",\n",
    "                                   year_list=article_level_desired_years\n",
    "                                   )\n",
    "\n"
   ],
   "metadata": {
    "collapsed": false,
    "pycharm": {
     "name": "#%%\n"
    }
   }
  },
  {
   "cell_type": "code",
   "execution_count": 13,
   "outputs": [
    {
     "name": "stdout",
     "output_type": "stream",
     "text": [
      "DatasetDict({\n",
      "    1900: Dataset({\n",
      "        features: ['article_id', 'newspaper_name', 'edition', 'date', 'page', 'headline', 'byline', 'article'],\n",
      "        num_rows: 1118970\n",
      "    })\n",
      "})\n"
     ]
    }
   ],
   "source": [
    "# let's inspect the structure\n",
    "print(dataset_article_level)"
   ],
   "metadata": {
    "collapsed": false,
    "pycharm": {
     "name": "#%%\n"
    }
   }
  },
  {
   "cell_type": "code",
   "execution_count": 14,
   "outputs": [
    {
     "data": {
      "text/plain": "{'article_id': Value(dtype='string', id=None),\n 'newspaper_name': Value(dtype='string', id=None),\n 'edition': Value(dtype='string', id=None),\n 'date': Value(dtype='string', id=None),\n 'page': Value(dtype='string', id=None),\n 'headline': Value(dtype='string', id=None),\n 'byline': Value(dtype='string', id=None),\n 'article': Value(dtype='string', id=None)}"
     },
     "execution_count": 14,
     "metadata": {},
     "output_type": "execute_result"
    }
   ],
   "source": [
    "dataset_article_level[\"1900\"].features"
   ],
   "metadata": {
    "collapsed": false,
    "pycharm": {
     "name": "#%%\n"
    }
   }
  },
  {
   "cell_type": "code",
   "execution_count": 17,
   "outputs": [
    {
     "data": {
      "text/plain": "{'article_id': '10_1900-12-13_p2_sn87057928_00340584429_1900121301_0830',\n 'newspaper_name': 'Audubon Republican.',\n 'edition': '01',\n 'date': '1900-12-13',\n 'page': 'p2',\n 'headline': 'HOLLAND HAS A WELCOME.\\n\\nCordial Hand Extended Dom Paui q,\\n\\n\\nThe Hague.',\n 'byline': '',\n 'article': 'Ine hague.\\n\\n\\nThe Hague, Dec. 7.-At the opening\\nof the second chamber yesterday,\\nPresident Gleichman said:\\n\\n\\npresident Kruger arrives here to.\\nday. / take occasion, to propose that\\nthe chamber authorize me to well\\ncome, in its name, the president to\\nour country and offer him an express\\nsion of our cordial sympathy\"\\n\\n\\nThe proposal was adopted amid\\ncheers.\\n\\n\\nWhen Kruger arrived he was greet\\ned at the station by the burgomaster\\nand councillors and choir of 610\\ngirls, who chanted Psalm 70, verses\\n6, z and II. The former president\\nand suite then repaired to the royal\\nwaiting room, where the burgomas-\\nter warmly welcomed him in a brief\\nspeech.\\n\\n\\nKruger, his suite and reception\\ncommittee, proceeded in open car\\nriages to the Hotel Des hides. which\\nis resplendent with flags and bunt-\\ning. The first chamber authorized it\\'s\\npresident to welcome Kruger on be-\\nhalf of the house as proof Of its\\nsympathy.'}"
     },
     "execution_count": 17,
     "metadata": {},
     "output_type": "execute_result"
    }
   ],
   "source": [
    "dataset_article_level[\"1900\"][50]"
   ],
   "metadata": {
    "collapsed": false,
    "pycharm": {
     "name": "#%%\n"
    }
   }
  },
  {
   "cell_type": "code",
   "execution_count": 19,
   "outputs": [
    {
     "name": "stdout",
     "output_type": "stream",
     "text": [
      "Ine hague.\n",
      "\n",
      "\n",
      "The Hague, Dec. 7.-At the opening\n",
      "of the second chamber yesterday,\n",
      "President Gleichman said:\n",
      "\n",
      "\n",
      "president Kruger arrives here to.\n",
      "day. / take occasion, to propose that\n",
      "the chamber authorize me to well\n",
      "come, in its name, the president to\n",
      "our country and offer him an express\n",
      "sion of our cordial sympathy\"\n",
      "\n",
      "\n",
      "The proposal was adopted amid\n",
      "cheers.\n",
      "\n",
      "\n",
      "When Kruger arrived he was greet\n",
      "ed at the station by the burgomaster\n",
      "and councillors and choir of 610\n",
      "girls, who chanted Psalm 70, verses\n",
      "6, z and II. The former president\n",
      "and suite then repaired to the royal\n",
      "waiting room, where the burgomas-\n",
      "ter warmly welcomed him in a brief\n",
      "speech.\n",
      "\n",
      "\n",
      "Kruger, his suite and reception\n",
      "committee, proceeded in open car\n",
      "riages to the Hotel Des hides. which\n",
      "is resplendent with flags and bunt-\n",
      "ing. The first chamber authorized it's\n",
      "president to welcome Kruger on be-\n",
      "half of the house as proof Of its\n",
      "sympathy.\n"
     ]
    }
   ],
   "source": [
    "print(dataset_article_level[\"1900\"][50][\"article\"])"
   ],
   "metadata": {
    "collapsed": false,
    "pycharm": {
     "name": "#%%\n"
    }
   }
  },
  {
   "cell_type": "code",
   "execution_count": 21,
   "outputs": [
    {
     "name": "stdout",
     "output_type": "stream",
     "text": [
      "{9: '20_1900-03-23_p6_sn83045462_00280655326_1900032301_0034'}\n"
     ]
    }
   ],
   "source": [
    "# we are interesting in spring style\n",
    "\n",
    "dict_of_articles_containing_spring_style = {}\n",
    "str_of_interest = \"foreign\"\n",
    "\n",
    "# let's loop!\n",
    "for article_n in range(10):\n",
    "\n",
    "  # let's grab the article data\n",
    "  article = dataset_article_level[\"1900\"][article_n]\n",
    "\n",
    "  # let's grab the article text\n",
    "  article_text = article[\"article\"]\n",
    "\n",
    "  # check if we see the text\n",
    "  if str_of_interest in article_text:\n",
    "    dict_of_articles_containing_spring_style[article_n] = article[\"article_id\"]\n",
    "  else:\n",
    "    pass\n",
    "\n",
    "# let's see which articles feature this text\n",
    "print(dict_of_articles_containing_spring_style)"
   ],
   "metadata": {
    "collapsed": false,
    "pycharm": {
     "name": "#%%\n"
    }
   }
  },
  {
   "cell_type": "code",
   "execution_count": 24,
   "outputs": [
    {
     "name": "stderr",
     "output_type": "stream",
     "text": [
      "100%|██████████| 1118970/1118970 [01:47<00:00, 10447.36it/s]\n"
     ]
    }
   ],
   "source": [
    "# in our article we found that the Boer War was the biggest story. We can\n",
    "# see which articles mention both the Boer War, and Winston Churchill who\n",
    "# was there as a report. Let's try with all articles this time\n",
    "str_of_interest_1 = \"foreign\"\n",
    "str_of_interest_2 = \"migrant\"\n",
    "\n",
    "# we want to find articles back later\n",
    "dict_of_articles_containing_boer_war_churchill = {}\n",
    "\n",
    "# proceed like before, looping through all articles. This should take 3 to 4 min\n",
    "for article_n in tq.tqdm(range(1118970)):\n",
    "\n",
    "  # let's grab the article data\n",
    "  article = dataset_article_level[\"1900\"][article_n]\n",
    "\n",
    "  # let's grab the article text. We need to worry about capitalization here\n",
    "  article_text = article[\"article\"].lower()\n",
    "\n",
    "  # we now test for both strings being present\n",
    "  if (\n",
    "      str_of_interest_1 in article_text\n",
    "      and\n",
    "      str_of_interest_2 in article_text\n",
    "  ):\n",
    "    dict_of_articles_containing_boer_war_churchill[article_n] = (\n",
    "        article[\"article_id\"]\n",
    "    )\n",
    "  else:\n",
    "    pass\n",
    "\n"
   ],
   "metadata": {
    "collapsed": false,
    "pycharm": {
     "name": "#%%\n"
    }
   }
  },
  {
   "cell_type": "code",
   "execution_count": 25,
   "outputs": [
    {
     "name": "stdout",
     "output_type": "stream",
     "text": [
      "154\n",
      "{6833: '23_1900-01-12_p1_sn84024441_00211102810_1900011201_0083', 7774: '15_1900-11-10_p3_sn90051267_00383340925_1900111001_0281', 11345: '10_1900-05-31_p3_sn84002889_00513681045_1900053101_0510', 14020: '9_1900-12-08_pNone_sn82014248_00514156074_1900120801_0511', 21565: '4_1900-01-24_p4_sn84024441_100492003_1900012401_0169', 22888: '4_1900-07-14_p2_sn82014248_00514156062_1900071401_0098', 50090: '17_1900-04-27_p6_sn83030214_00175040857_1900042701_0515', 52030: '5_1900-04-29_p14_sn83030214_00175040857_1900042901_0553', 53110: '10_1900-12-05_p4_sn89051168_00393343114_1900120501_0963', 57684: '8_1900-11-08_p4_sn83016758_00280767876_1900110801_0368', 66523: '11_1900-05-22_p3_sn89051168_00393343102_1900052201_1118', 79077: '9_1900-07-19_p3_sn90051548_00340586207_1900071901_0625', 86239: '1_1900-11-06_p4_sn89051168_00393343114_1900110601_0771', 92801: '9_1900-07-15_p21_sn83030214_00175040894_1900071501_0292', 93101: '46_1900-08-18_p16_sn83030214_00175040900_1900081801_0313', 98743: '13_1900-01-04_p1_sn84021913_00211105161_1900010401_0337', 103285: '6_1900-12-02_p21_sn83030272_100479771_1900120201_0454', 123276: '8_1900-11-16_p5_sn91052553_00383341097_1900111601_0213', 124013: '12_1900-10-16_p6_sn89051168_00393343114_1900101601_0637', 128280: '23_1900-02-17_p2_sn90051068_00513680818_1900021701_0558', 133246: '11_1900-11-03_p3_sn86058061_00220720469_1900110301_0003', 140466: '13_1900-09-28_p3_sn89051168_00393343114_1900092801_0534', 147170: '10_1900-02-18_pNone_sn90059523_00206533973_1900021801_0500', 150234: '17_1900-11-15_p3_sn85067315_00383341073_1900111501_0223', 159128: '22_1900-07-28_p5_sn84024441_100492040_1900072801_0687', 167366: '10_1900-11-09_p3_sn90051344_00340586116_1900110901_0832', 176419: '13_1900-08-21_p2_sn83030214_00175040900_1900082101_0369', 178365: '14_1900-05-19_p16_sn83030214_00175040869_1900051901_0353', 186700: '8_1900-06-07_p2_sn89051168_00393343102_1900060701_1227', 208895: '3_1900-09-12_p2_sn89051168_00393343114_1900091201_0423', 209995: '12_1900-03-10_p1_sn82016354_100493974_1900031001_0419', 218261: '17_1900-11-08_p2_sn90051548_00340586207_1900110801_0758', 219734: '6_1900-11-17_p2_sn86058061_00220720469_1900111701_0002', 261489: '6_1900-01-14_p4_sn83030214_0017504081A_1900011401_0215', 277390: '10_1900-11-09_p2_sn90051185_00513681094_1900110901_0050', 289929: '24_1900-02-19_p8_sn86072192_00340583383_1900021901_0443', 290679: '6_1900-01-11_pNone_2018270202_0027952813A_1900011101_1078', 293462: '11_1900-04-13_p10_sn88076514_0029586381A_1900041301_0404', 305091: '7_1900-08-05_p18_sn83030214_00175040900_1900080501_0079', 310587: '8_1900-08-16_p5_sn85067315_00383341073_1900081601_0101', 327110: '2_1900-07-20_p3_sn90051185_00513681082_1900072001_0953', 328108: '4_1900-07-27_p8_sn84024441_100492040_1900072701_0682', 333340: '14_1900-01-01_p11_sn89053706_00393344568_1900010101_0011', 344891: '12_1900-07-11_p4_sn86072192_00340583115_1900071101_0103', 349939: '26_1900-10-14_p2_sn83030214_00175040936_1900101401_0217', 354126: '22_1900-11-09_p3_sn90051167_00340586049_1900110901_0711', 355347: '3_1900-11-28_p2_sn89051168_00393343114_1900112801_0915', 357442: '11_1900-05-07_p10_sn84020358_0041566820A_1900050701_1082', 357443: '14_1900-05-07_p10_sn84020358_0041566820A_1900050701_1082', 360449: '20_1900-03-03_p2_sn82016357_100493615_1900030301_0079', 364888: '27_1900-12-11_p6_sn87062234_100493664_1900121101_0133', 365772: '9_1900-04-06_p1_sn86066870_00383341437_1900040601_0097', 370255: '17_1900-05-26_p3_sn84024441_100492040_1900052601_0261', 372380: '6_1900-12-03_pNone_sn89053706_00393344568_1900120301_0286', 376880: '5_1900-12-20_p3_sn89051168_00393343114_1900122001_1066', 403907: '24_1900-02-16_p2_sn90051167_00340586049_1900021601_0552', 413827: '10_1900-08-08_p4_sn89081022_0021247275A_1900080801_0277', 420153: '4_1900-12-02_p3_sn86072192_00340583127_1900120201_0586', 422233: '1_1900-11-21_p6_sn89051168_00393343114_1900112101_0871', 426846: '2_1900-12-29_p7_sn82016357_100493615_1900122901_0446', 428471: '5_1900-06-13_p8_sn84024441_100492040_1900061301_0387', 446745: '4_1900-05-30_p4_sn85042354_00383343434_1900053001_0087', 446747: '6_1900-05-30_p4_sn85042354_00383343434_1900053001_0087', 451085: '6_1900-11-29_pNone_sn99021999_00237284987_1900112901_0596', 473921: '11_1900-08-08_p2_sn84020558_00212476419_1900080801_0071', 482870: '6_1900-05-13_p26_sn83030214_00175040869_1900051301_0245', 492149: '86_1900-01-27_p3_sn83016189_00220720457_1900012701_0003', 502626: '10_1900-02-16_p1_sn89052133_00383341152_1900021601_0509', 531190: '17_1900-03-18_p6_sn90059523_00206533985_1900031801_0178', 536752: '8_1900-12-07_p4_sn83040340_00237285311_1900120701_1097', 541195: '34_1900-06-09_p3_sn84024441_100492040_1900060901_0358', 548224: '2_1900-06-05_p7_sn82016014_00295871209_1900060501_0520', 549462: '16_1900-04-30_p6_sn89051168_00393343102_1900043001_0981', 550288: '14_1900-12-10_p10_sn83045462_00280655375_1900121001_0232', 553680: '12_1900-02-14_p3_sn86063147_00279528256_1900021401_0284', 595294: '4_1900-12-30_p4_sn89051168_00393343114_1900123001_1123', 601458: '6_1900-09-01_p1_sn90059959_00271742873_1900090101_0084', 607614: '26_1900-11-19_p3_sn83030214_00175040948_1900111901_0350', 610903: '15_1900-07-01_p27_sn83030214_00175040894_1900070101_0028', 624499: '4_1900-05-26_p1_sn83030214_00175040869_1900052601_0476', 627221: '35_1900-02-03_pNone_sn83016943_00295877698_1900020301_0134', 631521: '84_1900-12-08_p3_sn90059959_00271742873_1900120801_0214', 642182: '4_1900-12-17_p4_sn86072192_00340583127_1900121701_0743', 656060: '4_1900-12-18_p14_sn83045462_00280655375_1900121801_0373', 656122: '10_1900-01-11_p2_sn84029386_00295871489_1900011101_0645', 696535: '4_1900-07-24_p6_2010270504_00211102536_1900072401_0387', 697254: '11_1900-11-13_p3_sn86063397_00383341474_1900111301_0357', 706250: '44_1900-03-30_p4_sn86072192_00340583383_1900033001_0807', 708899: '7_1900-06-12_p5_sn84024441_100492040_1900061201_0376', 716786: '28_1900-02-14_p2_sn84024441_00211102810_1900021401_0291', 739770: '3_1900-03-22_pNone_sn82016014_00295871210_1900032201_0582', 748356: '25_1900-02-23_pNone_sn85035524_00332896829_1900022301_0266', 751652: '9_1900-12-27_p1_sn85047084_0029602465A_1900122701_0648', 753080: '19_1900-04-18_p5_sn89051168_00393343102_1900041801_0916', 764325: '72_1900-05-13_p3_sn83030214_00175040869_1900051301_0222', 769210: '21_1900-01-31_p3_sn83030214_0017504081A_1900013101_0540', 783826: '34_1900-07-31_pNone_sn83030214_00175040894_1900073101_0584', 796962: '13_1900-01-08_p4_sn86072192_00340583383_1900010801_0071', 797552: '17_1900-10-18_p2_sn88053087_00271741613_1900101801_1045', 800499: '3_1900-07-13_p2_sn95060636_00414216638_1900071301_0720', 804503: '4_1900-03-10_p1_sn84024441_00211102810_1900031001_0426', 808564: '33_1900-11-10_p5_sn90059523_00206534023_1900111001_0106', 808588: '28_1900-06-10_p20_sn90059523_00206533997_1900061001_0463', 809724: '11_1900-08-19_p4_sn83030214_00175040900_1900081901_0317', 823948: '5_1900-09-06_pNone_sn83030214_00175040912_1900090601_0108', 829583: '9_1900-08-05_p24_sn86072192_00340583115_1900080501_0347', 831935: '7_1900-04-14_p10_sn90059523_00206533985_1900041401_0511', 834298: '4_1900-01-30_p9_sn83030214_0017504081A_1900013001_0532', 868917: '12_1900-11-07_p7_sn86063147_00279528268_1900110701_0083', 872895: '34_1900-04-18_p3_sn84024441_00211102810_1900041801_0696', 888706: '24_1900-11-23_p4_sn85042354_00383343434_1900112301_1032', 892021: '5_1900-02-09_p3_sn82016014_00295871210_1900020901_0278', 893897: '19_1900-03-05_p11_sn84020358_0041566820A_1900030501_0551', 894067: '9_1900-05-10_p6_sn89051168_00393343102_1900051001_1045', 915419: '9_1900-06-27_p2_sn82015080_00212473820_1900062701_0419', 919644: '6_1900-11-22_p1_sn84027718_00271763591_1900112201_0208', 920030: '31_1900-03-27_p1_sn84024441_00211102810_1900032701_0539', 926930: '10_1900-08-14_p8_sn83030214_00175040900_1900081401_0249', 930210: '1_1900-11-15_p3_sn90059591_00383346836_1900111501_0456', 931079: '7_1900-02-17_p1_sn78000395_00212475701_1900021701_0017', 933008: '31_1900-02-27_p1_sn84024441_00211102810_1900022701_0346', 937561: '3_1900-08-03_p7_sn90059182_00393341087_1900080301_0254', 942641: '24_1900-08-21_p1_sn89051194_00414212451_1900082101_0035', 956556: '26_1900-11-29_p14_sn83030214_00175040948_1900112901_0535', 959102: '6_1900-07-26_p3_sn85067315_00383341073_1900072601_0075', 961890: '22_1900-05-17_p2_sn83030214_00175040869_1900051701_0309', 963218: '1_1900-04-10_pNone_sn90059523_00206533985_1900041001_0469', 969557: '23_1900-06-15_p3_sn94050513_00211106281_1900061501_0237', 976111: '9_1900-04-02_p6_sn89053706_00393344568_1900040201_0066', 977755: '12_1900-12-01_p4_sn88064384_00295873929_1900120101_0179', 982566: '3_1900-11-29_p2_sn96060765_00383341851_1900112901_0050', 988480: '14_1900-05-19_pNone_sn86058057_00220720469_1900051901_0004', 993061: '6_1900-12-18_p7_sn89051168_00393343114_1900121801_1054', 995482: '35_1900-02-15_p2_sn90051300_00340586104_1900021501_0379', 998278: '15_1900-08-26_p2_sn89051168_00393343114_1900082601_0305', 1007772: '28_1900-02-14_p3_sn84024441_100492003_1900021401_0296', 1015536: '39_1900-12-13_p1_sn84027718_00271763591_1900121301_0220', 1022127: '9_1900-04-13_p2_sn86090500_00513688003_1900041301_0771', 1033021: '5_1900-06-22_p2_sn95060636_00414216638_1900062201_0708', 1034016: '2_1900-11-07_p3_sn89081022_0021247275A_1900110701_0421', 1045432: '18_1900-09-04_p3_sn89051168_00393343114_1900090401_0368', 1046696: '23_1900-12-22_p14_sn83045462_00280655375_1900122201_0437', 1053986: '22_1900-01-12_p2_sn84024441_100492003_1900011201_0088', 1061439: '18_1900-11-08_pNone_sn84029853_0029587160A_1900110801_0363', 1062043: '6_1900-09-15_p8_sn90059959_00271742873_1900091501_0109', 1062707: '20_1900-11-14_p5_sn89051168_00393343114_1900111401_0822', 1066040: '7_1900-08-14_p6_sn89051168_00393343114_1900081401_0231', 1068646: '1_1900-12-14_p2_sn89051168_00393343114_1900121401_1025', 1083972: '5_1900-10-09_p2_sn89051168_00393343114_1900100901_0591', 1089095: '5_1900-01-24_p3_sn84024441_00211102810_1900012401_0164', 1091867: '16_1900-11-21_p2_sn89081022_0021247275A_1900112101_0436', 1111979: '24_1900-10-01_p15_sn83045462_00280655351_1900100101_0540', 1112949: '34_1900-06-13_p1_sn84024441_100492040_1900061301_0380', 1116222: '7_1900-11-09_p6_sn89052194_00513680600_1900110901_0383'}\n"
     ]
    }
   ],
   "source": [
    "# let's see how many articles we got\n",
    "print(len(dict_of_articles_containing_boer_war_churchill))\n",
    "\n",
    "# let's print the results\n",
    "print(dict_of_articles_containing_boer_war_churchill)\n"
   ],
   "metadata": {
    "collapsed": false,
    "pycharm": {
     "name": "#%%\n"
    }
   }
  },
  {
   "cell_type": "code",
   "execution_count": 26,
   "outputs": [
    {
     "data": {
      "text/plain": "{'article_id': '23_1900-01-12_p1_sn84024441_00211102810_1900011201_0083',\n 'newspaper_name': 'The evening times.',\n 'edition': '01',\n 'date': '1900-01-12',\n 'page': 'p1',\n 'headline': 'THE COMMERCE OF China\\n\\nAn Official Report Showing the lm-\\n\\n\\nports and Exports.\\n\\nThe Condition of External Trade nm\\n\\n\\nIndex to the National Resources.\\npendifures by Foreign Vessels for\\n\\n\\nSupplies - Comparative Statistics.',\n 'byline': '',\n 'article': 'The latest official report upon the for\\n| eign commerce of China, showing imports\\nand exports by countries, and articles, and\\nthe growth of commerce during term of\\nyears, which has been received by the\\nTreasury Bureau of Statistics. presents\\n| much information especially interesting to\\n| the public at the present moment.\\n1t shows that the imports into China,\\nwhich in 1868 were 64,9i3,00O haikwan\\n| taels. in 1878. 73.1SS. 900. and in 1888, 126,-\\n$4,000 taels. were in 1898, 2G9, $40 900\\n| haikwan taels: while the exports from\\nChina. which In 1868 were 81. .S26 900 haik-\\n| wan taels, in 1873. 67.172 900, and in 1888.\\n\\n\\n92, 4O1 900, were in 1898. 159. .O37 900 haikwan\\n| taes. The imports from the United States.\\n| which In 1868 were ZAP. 900 haikwan taels,\\n| had grown to 2.253.00 In 1878, 3.146,0t0\\nin 1883. and 17,163.312 In 1898, while the\\nexports to the United States which in\\n1858 were 6.S91 900 hakwan taels. were\\n\\n\\nin 1878. G.576. 900. in 1888. S.963, 900, and in\\n1898. 11.gST.000 haikwan taeIs.\\n\\n\\nDiscussing the foreign trade OF China.\\n\\n\\nthe report says: so much foreign capital\\n\\n\\nhas been lately invested in China that the\\ncondition of the external trade Of the coun-\\ntry, as an index TO the national resources,\\nis watched with certain anxiety. lt 10\\nobserved that in every year the value OF\\nthe imports has exceeded that OF exports,\\nand for the period 1868 the excess of\\nimports over exports is 437, ,027.679 haikwan\\ntaels an annual average Of about 3i.0OO,-\\ncoo taels.\\n\\n\\nThese figures have given rise in some\\nquarters 10 the strange belief that China\\nis being gradually denuded of silver to pay\\n&. ha hal ha\\nly stated that the country is approach\\ning bankruptcy. II is pointed out that\\nChina has not only TO pay for her i\\'m\\nports, but has also to find funds to meet\\nremittances abroad for the service of loans,\\nfor the purchase Of war material. and for\\n\\n\\nthe support of legations. etc. The de-\\npressing picture thus presented to the i\\'m\\nagination has a tendency to destroy credit.\\nand prevents many people from Investing in\\nChina\\'s securities. and it may be we\\'ll to\\n\\n\\nshow that as far as can be ascertained, the\\nposition is one that need cause no anxiety.\\n1T must be explained that the figures OF\\n\\n\\nimports and exports represent the value OF\\n\\n\\ngoods on the Chinese market; that is to\\n\\n\\nsay, in the case OF imports. the value after\\n\\n\\nthey have paid duty to the Government\\nand profit to the Chinese buyer: and IN\\n\\n\\nthe case of exports. the value on the mar\\n\\n\\nket before they have been sold TO the\\n\\n\\nforeign buyer and paid export duty. The\\nfigures for 1895 reduced to the value OF i\\'m\\n\\n\\nports at the moment of landing. and the\\n\\n\\nvalue OF the exports at the moment OF\\nshipment the moment when balance may\\nbe fairly struck. show, instead of an ex-\\ncess of imports amounting to 50.542, 600\\nhaikYan taels, an excess Of only 1921, eco\\ntaels.\\n\\n\\nBut we must also take into account the\\nvalue of gold exported (gold in China being\\nsimply commodity amounting to 1-I03,-\\nSi3 haikwan taels. and the value OF the tea\\nsent 10 Siberia and Russia via the Han\\nRiver. valued at 1872 099 taels. and thus\\nWe have an excess of exports over imports\\nof 1.754,7gS hakwan taels. Further II\\nmust be remembered that the figures which\\ncome under the cognizance of the customs\\ndo not represent the whole Of China\\nforeign trade\\n\\n\\nThere is a junk traffic to Korea and the\\nsouth of which We have no statistics. but\\nwhich is certainly profitable and a con-\\nsiderable trade with Mongolia and Tibet.\\nThe large income derived from the ex-\\npenditure Of foreign vessels for provisions\\nand other necessaries must not be forgot\\nten. and the sums which are Temitted or\\nbrought back by emigrants probably reach\\na total which would be surprising were\\n\\n\\nfigures available. it having been stated\\napparently upon good authority, that the\\nremittances from California alone amount\\nto ten or twelve millions OF gold dollars\\nannually\\n\\n\\nIn the absence OF definite information\\nthe above considerations can only be put\\nforward as presumptive evidence that the\\nnation is well able to pay its way; but the\\nproof is TO be found in the fact that the\\ngovernment remittances to Europe for the\\nservice of loans. amounting during 1898 10\\nnearly IS 1000 900 taels. are made through\\nforeign banks by the medium of bills CT\\nexchange against exports. So far from sill\\nyer being exported abroad. there was a net\\nimport during the year of 4.122.027 haik-\\nwan taels, and information from all parts\\nof the country points to no scarcity OF sill\\nyer. while the general course of silver\\nprices indicates that the metal is plentiful\\n\\n\\n\\'It may be confidently asserted that\\nChina meets the whole of her obligations\\nwithout any depletion of her currency. and\\nthat the Chinese buy no imports except\\nsuch as can be obtained in exchange for\\nexports. No doubt the government is hard\\npressed for funds, but the country grows\\nweaIthicr every year\"\\n\\n\\nThe following table taken from the cfIi-\\ncial reports of the Chinese Government\\nshows the total imports into China and the\\namount from the United States at decen-\\nNAL periods since 1868, stated in haikwan\\ntaels, the value of the tael being in 1868\\n81 55; in 1873, $1.37; in 1883. $1.15, and in\\n1898. SO cents.\\n\\n\\nYear. Total Imp\\'s-. ImP\\'s from Pet; from\\n\\n\\nHaikvan taeIs Uaikwan tael-'}"
     },
     "execution_count": 26,
     "metadata": {},
     "output_type": "execute_result"
    }
   ],
   "source": [
    "# let's inspect the first one\n",
    "dataset_article_level[\"1900\"][6833]"
   ],
   "metadata": {
    "collapsed": false,
    "pycharm": {
     "name": "#%%\n"
    }
   }
  },
  {
   "cell_type": "code",
   "execution_count": 27,
   "outputs": [
    {
     "name": "stdout",
     "output_type": "stream",
     "text": [
      "The latest official report upon the for\n",
      "| eign commerce of China, showing imports\n",
      "and exports by countries, and articles, and\n",
      "the growth of commerce during term of\n",
      "years, which has been received by the\n",
      "Treasury Bureau of Statistics. presents\n",
      "| much information especially interesting to\n",
      "| the public at the present moment.\n",
      "1t shows that the imports into China,\n",
      "which in 1868 were 64,9i3,00O haikwan\n",
      "| taels. in 1878. 73.1SS. 900. and in 1888, 126,-\n",
      "$4,000 taels. were in 1898, 2G9, $40 900\n",
      "| haikwan taels: while the exports from\n",
      "China. which In 1868 were 81. .S26 900 haik-\n",
      "| wan taels, in 1873. 67.172 900, and in 1888.\n",
      "\n",
      "\n",
      "92, 4O1 900, were in 1898. 159. .O37 900 haikwan\n",
      "| taes. The imports from the United States.\n",
      "| which In 1868 were ZAP. 900 haikwan taels,\n",
      "| had grown to 2.253.00 In 1878, 3.146,0t0\n",
      "in 1883. and 17,163.312 In 1898, while the\n",
      "exports to the United States which in\n",
      "1858 were 6.S91 900 hakwan taels. were\n",
      "\n",
      "\n",
      "in 1878. G.576. 900. in 1888. S.963, 900, and in\n",
      "1898. 11.gST.000 haikwan taeIs.\n",
      "\n",
      "\n",
      "Discussing the foreign trade OF China.\n",
      "\n",
      "\n",
      "the report says: so much foreign capital\n",
      "\n",
      "\n",
      "has been lately invested in China that the\n",
      "condition of the external trade Of the coun-\n",
      "try, as an index TO the national resources,\n",
      "is watched with certain anxiety. lt 10\n",
      "observed that in every year the value OF\n",
      "the imports has exceeded that OF exports,\n",
      "and for the period 1868 the excess of\n",
      "imports over exports is 437, ,027.679 haikwan\n",
      "taels an annual average Of about 3i.0OO,-\n",
      "coo taels.\n",
      "\n",
      "\n",
      "These figures have given rise in some\n",
      "quarters 10 the strange belief that China\n",
      "is being gradually denuded of silver to pay\n",
      "&. ha hal ha\n",
      "ly stated that the country is approach\n",
      "ing bankruptcy. II is pointed out that\n",
      "China has not only TO pay for her i'm\n",
      "ports, but has also to find funds to meet\n",
      "remittances abroad for the service of loans,\n",
      "for the purchase Of war material. and for\n",
      "\n",
      "\n",
      "the support of legations. etc. The de-\n",
      "pressing picture thus presented to the i'm\n",
      "agination has a tendency to destroy credit.\n",
      "and prevents many people from Investing in\n",
      "China's securities. and it may be we'll to\n",
      "\n",
      "\n",
      "show that as far as can be ascertained, the\n",
      "position is one that need cause no anxiety.\n",
      "1T must be explained that the figures OF\n",
      "\n",
      "\n",
      "imports and exports represent the value OF\n",
      "\n",
      "\n",
      "goods on the Chinese market; that is to\n",
      "\n",
      "\n",
      "say, in the case OF imports. the value after\n",
      "\n",
      "\n",
      "they have paid duty to the Government\n",
      "and profit to the Chinese buyer: and IN\n",
      "\n",
      "\n",
      "the case of exports. the value on the mar\n",
      "\n",
      "\n",
      "ket before they have been sold TO the\n",
      "\n",
      "\n",
      "foreign buyer and paid export duty. The\n",
      "figures for 1895 reduced to the value OF i'm\n",
      "\n",
      "\n",
      "ports at the moment of landing. and the\n",
      "\n",
      "\n",
      "value OF the exports at the moment OF\n",
      "shipment the moment when balance may\n",
      "be fairly struck. show, instead of an ex-\n",
      "cess of imports amounting to 50.542, 600\n",
      "haikYan taels, an excess Of only 1921, eco\n",
      "taels.\n",
      "\n",
      "\n",
      "But we must also take into account the\n",
      "value of gold exported (gold in China being\n",
      "simply commodity amounting to 1-I03,-\n",
      "Si3 haikwan taels. and the value OF the tea\n",
      "sent 10 Siberia and Russia via the Han\n",
      "River. valued at 1872 099 taels. and thus\n",
      "We have an excess of exports over imports\n",
      "of 1.754,7gS hakwan taels. Further II\n",
      "must be remembered that the figures which\n",
      "come under the cognizance of the customs\n",
      "do not represent the whole Of China\n",
      "foreign trade\n",
      "\n",
      "\n",
      "There is a junk traffic to Korea and the\n",
      "south of which We have no statistics. but\n",
      "which is certainly profitable and a con-\n",
      "siderable trade with Mongolia and Tibet.\n",
      "The large income derived from the ex-\n",
      "penditure Of foreign vessels for provisions\n",
      "and other necessaries must not be forgot\n",
      "ten. and the sums which are Temitted or\n",
      "brought back by emigrants probably reach\n",
      "a total which would be surprising were\n",
      "\n",
      "\n",
      "figures available. it having been stated\n",
      "apparently upon good authority, that the\n",
      "remittances from California alone amount\n",
      "to ten or twelve millions OF gold dollars\n",
      "annually\n",
      "\n",
      "\n",
      "In the absence OF definite information\n",
      "the above considerations can only be put\n",
      "forward as presumptive evidence that the\n",
      "nation is well able to pay its way; but the\n",
      "proof is TO be found in the fact that the\n",
      "government remittances to Europe for the\n",
      "service of loans. amounting during 1898 10\n",
      "nearly IS 1000 900 taels. are made through\n",
      "foreign banks by the medium of bills CT\n",
      "exchange against exports. So far from sill\n",
      "yer being exported abroad. there was a net\n",
      "import during the year of 4.122.027 haik-\n",
      "wan taels, and information from all parts\n",
      "of the country points to no scarcity OF sill\n",
      "yer. while the general course of silver\n",
      "prices indicates that the metal is plentiful\n",
      "\n",
      "\n",
      "'It may be confidently asserted that\n",
      "China meets the whole of her obligations\n",
      "without any depletion of her currency. and\n",
      "that the Chinese buy no imports except\n",
      "such as can be obtained in exchange for\n",
      "exports. No doubt the government is hard\n",
      "pressed for funds, but the country grows\n",
      "weaIthicr every year\"\n",
      "\n",
      "\n",
      "The following table taken from the cfIi-\n",
      "cial reports of the Chinese Government\n",
      "shows the total imports into China and the\n",
      "amount from the United States at decen-\n",
      "NAL periods since 1868, stated in haikwan\n",
      "taels, the value of the tael being in 1868\n",
      "81 55; in 1873, $1.37; in 1883. $1.15, and in\n",
      "1898. SO cents.\n",
      "\n",
      "\n",
      "Year. Total Imp's-. ImP's from Pet; from\n",
      "\n",
      "\n",
      "Haikvan taeIs Uaikwan tael-\n"
     ]
    }
   ],
   "source": [
    "print(dataset_article_level[\"1900\"][6833][\"article\"])"
   ],
   "metadata": {
    "collapsed": false,
    "pycharm": {
     "name": "#%%\n"
    }
   }
  },
  {
   "cell_type": "code",
   "execution_count": 28,
   "outputs": [],
   "source": [
    "\n",
    "\n",
    "import pandas as pd\n",
    "# It is possible to visualze the frequency of appearance over time\n",
    "\n",
    "# let's initialize a list of our dates\n",
    "list_of_dates = []\n",
    "\n",
    "# let's loop over our article indices\n",
    "for article_n in dict_of_articles_containing_boer_war_churchill.keys():\n",
    "\n",
    "  # let's grab the date\n",
    "  date = dataset_article_level[\"1900\"][article_n]['date']\n",
    "\n",
    "  # let's add to our list\n",
    "  list_of_dates.append(date)\n",
    "\n",
    "\n",
    "\n"
   ],
   "metadata": {
    "collapsed": false,
    "pycharm": {
     "name": "#%%\n"
    }
   }
  },
  {
   "cell_type": "code",
   "execution_count": 29,
   "outputs": [
    {
     "data": {
      "text/plain": "<AxesSubplot:xlabel='date'>"
     },
     "execution_count": 29,
     "metadata": {},
     "output_type": "execute_result"
    },
    {
     "data": {
      "text/plain": "<Figure size 1080x648 with 1 Axes>",
      "image/png": "[encoded data removed]"
     },
     "metadata": {
      "needs_background": "light"
     },
     "output_type": "display_data"
    }
   ],
   "source": [
    "\n",
    "\n",
    "#  now let's plot the frequency by date\n",
    "df = pd.DataFrame({'date': list_of_dates})\n",
    "df.groupby('date').size().plot(kind='bar', figsize=(15,9))\n",
    "\n"
   ],
   "metadata": {
    "collapsed": false,
    "pycharm": {
     "name": "#%%\n"
    }
   }
  }
 ],
 "metadata": {
  "kernelspec": {
   "display_name": "Python 3",
   "language": "python",
   "name": "python3"
  },
  "language_info": {
   "codemirror_mode": {
    "name": "ipython",
    "version": 2
   },
   "file_extension": ".py",
   "mimetype": "text/x-python",
   "name": "python",
   "nbconvert_exporter": "python",
   "pygments_lexer": "ipython2",
   "version": "2.7.6"
  }
 },
 "nbformat": 4,
 "nbformat_minor": 0
}